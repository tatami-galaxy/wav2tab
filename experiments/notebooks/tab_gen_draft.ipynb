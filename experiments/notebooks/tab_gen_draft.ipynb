{
  "cells": [
    {
      "cell_type": "code",
      "source": [
        "!git clone https://github.com/facebookresearch/demucs.git\n",
        "%cd demucs\n",
        "!pip install -e ."
      ],
      "metadata": {
        "colab": {
          "base_uri": "https://localhost:8080/"
        },
        "id": "yBDYGmsAi9I8",
        "outputId": "52c04db9-0a2c-4550-9303-ac3bbf996945"
      },
      "execution_count": null,
      "outputs": [
        {
          "output_type": "stream",
          "name": "stdout",
          "text": [
            "Cloning into 'demucs'...\n",
            "remote: Enumerating objects: 5656, done.\u001b[K\n",
            "remote: Counting objects: 100% (123/123), done.\u001b[K\n",
            "remote: Compressing objects: 100% (81/81), done.\u001b[K\n",
            "remote: Total 5656 (delta 57), reused 90 (delta 42), pack-reused 5533\u001b[K\n",
            "Receiving objects: 100% (5656/5656), 76.68 MiB | 2.76 MiB/s, done.\n",
            "Resolving deltas: 100% (1007/1007), done.\n"
          ]
        }
      ]
    },
    {
      "cell_type": "code",
      "source": [
        "!apt-get install soundstretch\n",
        "!apt install ffmpeg"
      ],
      "metadata": {
        "id": "fN0fFUKojM5H",
        "colab": {
          "base_uri": "https://localhost:8080/"
        },
        "outputId": "4c02283e-73b7-4d6a-eb63-f62340a1c280"
      },
      "execution_count": null,
      "outputs": [
        {
          "output_type": "stream",
          "name": "stdout",
          "text": [
            "Reading package lists... Done\n",
            "Building dependency tree       \n",
            "Reading state information... Done\n",
            "The following additional packages will be installed:\n",
            "  libsoundtouch1\n",
            "The following NEW packages will be installed:\n",
            "  libsoundtouch1 soundstretch\n",
            "0 upgraded, 2 newly installed, 0 to remove and 24 not upgraded.\n",
            "Need to get 58.9 kB of archives.\n",
            "After this operation, 208 kB of additional disk space will be used.\n",
            "Get:1 http://archive.ubuntu.com/ubuntu focal/universe amd64 libsoundtouch1 amd64 2.1.2+ds1-1build1 [30.4 kB]\n",
            "Get:2 http://archive.ubuntu.com/ubuntu focal/universe amd64 soundstretch amd64 2.1.2+ds1-1build1 [28.5 kB]\n",
            "Fetched 58.9 kB in 0s (238 kB/s)\n",
            "Selecting previously unselected package libsoundtouch1:amd64.\n",
            "(Reading database ... 122518 files and directories currently installed.)\n",
            "Preparing to unpack .../libsoundtouch1_2.1.2+ds1-1build1_amd64.deb ...\n",
            "Unpacking libsoundtouch1:amd64 (2.1.2+ds1-1build1) ...\n",
            "Selecting previously unselected package soundstretch.\n",
            "Preparing to unpack .../soundstretch_2.1.2+ds1-1build1_amd64.deb ...\n",
            "Unpacking soundstretch (2.1.2+ds1-1build1) ...\n",
            "Setting up libsoundtouch1:amd64 (2.1.2+ds1-1build1) ...\n",
            "Setting up soundstretch (2.1.2+ds1-1build1) ...\n",
            "Processing triggers for libc-bin (2.31-0ubuntu9.9) ...\n",
            "Processing triggers for man-db (2.9.1-1) ...\n"
          ]
        }
      ]
    },
    {
      "cell_type": "code",
      "source": [
        "!pip install basic-pitch --upgrade"
      ],
      "metadata": {
        "colab": {
          "base_uri": "https://localhost:8080/"
        },
        "id": "R--Kz5-XHo-L",
        "outputId": "7d70bb69-01bb-4a94-a59d-8a3cfc2a937a"
      },
      "execution_count": null,
      "outputs": [
        {
          "output_type": "stream",
          "name": "stdout",
          "text": [
            "Looking in indexes: https://pypi.org/simple, https://us-python.pkg.dev/colab-wheels/public/simple/\n",
            "Collecting basic-pitch\n",
            "  Downloading basic_pitch-0.2.4-py2.py3-none-any.whl (373 kB)\n",
            "\u001b[2K     \u001b[90m━━━━━━━━━━━━━━━━━━━━━━━━━━━━━━━━━━━━━━━\u001b[0m \u001b[32m373.4/373.4 kB\u001b[0m \u001b[31m8.5 MB/s\u001b[0m eta \u001b[36m0:00:00\u001b[0m\n",
            "\u001b[?25hCollecting mir-eval>=0.6\n",
            "  Downloading mir_eval-0.7.tar.gz (90 kB)\n",
            "\u001b[2K     \u001b[90m━━━━━━━━━━━━━━━━━━━━━━━━━━━━━━━━━━━━━━━━\u001b[0m \u001b[32m90.7/90.7 kB\u001b[0m \u001b[31m12.4 MB/s\u001b[0m eta \u001b[36m0:00:00\u001b[0m\n",
            "\u001b[?25h  Preparing metadata (setup.py) ... \u001b[?25l\u001b[?25hdone\n",
            "Collecting tensorflow<2.12,>=2.4.1\n",
            "  Downloading tensorflow-2.11.1-cp310-cp310-manylinux_2_17_x86_64.manylinux2014_x86_64.whl (588.3 MB)\n",
            "\u001b[2K     \u001b[90m━━━━━━━━━━━━━━━━━━━━━━━━━━━━━━━━━━━━━━━\u001b[0m \u001b[32m588.3/588.3 MB\u001b[0m \u001b[31m2.7 MB/s\u001b[0m eta \u001b[36m0:00:00\u001b[0m\n",
            "\u001b[?25hRequirement already satisfied: scipy>=1.4.1 in /usr/local/lib/python3.10/dist-packages (from basic-pitch) (1.10.1)\n",
            "Requirement already satisfied: librosa>=0.8.0 in /usr/local/lib/python3.10/dist-packages (from basic-pitch) (0.10.0.post2)\n",
            "Collecting resampy>=0.2.2\n",
            "  Downloading resampy-0.4.2-py3-none-any.whl (3.1 MB)\n",
            "\u001b[2K     \u001b[90m━━━━━━━━━━━━━━━━━━━━━━━━━━━━━━━━━━━━━━━━\u001b[0m \u001b[32m3.1/3.1 MB\u001b[0m \u001b[31m94.9 MB/s\u001b[0m eta \u001b[36m0:00:00\u001b[0m\n",
            "\u001b[?25hRequirement already satisfied: numpy<1.24,>=1.18 in /usr/local/lib/python3.10/dist-packages (from basic-pitch) (1.22.4)\n",
            "Collecting pretty-midi>=0.2.9\n",
            "  Downloading pretty_midi-0.2.10.tar.gz (5.6 MB)\n",
            "\u001b[2K     \u001b[90m━━━━━━━━━━━━━━━━━━━━━━━━━━━━━━━━━━━━━━━━\u001b[0m \u001b[32m5.6/5.6 MB\u001b[0m \u001b[31m100.2 MB/s\u001b[0m eta \u001b[36m0:00:00\u001b[0m\n",
            "\u001b[?25h  Preparing metadata (setup.py) ... \u001b[?25l\u001b[?25hdone\n",
            "Requirement already satisfied: typing-extensions in /usr/local/lib/python3.10/dist-packages (from basic-pitch) (4.5.0)\n",
            "Requirement already satisfied: scikit-learn>=0.20.0 in /usr/local/lib/python3.10/dist-packages (from librosa>=0.8.0->basic-pitch) (1.2.2)\n",
            "Requirement already satisfied: joblib>=0.14 in /usr/local/lib/python3.10/dist-packages (from librosa>=0.8.0->basic-pitch) (1.2.0)\n",
            "Requirement already satisfied: decorator>=4.3.0 in /usr/local/lib/python3.10/dist-packages (from librosa>=0.8.0->basic-pitch) (4.4.2)\n",
            "Requirement already satisfied: numba>=0.51.0 in /usr/local/lib/python3.10/dist-packages (from librosa>=0.8.0->basic-pitch) (0.56.4)\n",
            "Requirement already satisfied: soundfile>=0.12.1 in /usr/local/lib/python3.10/dist-packages (from librosa>=0.8.0->basic-pitch) (0.12.1)\n",
            "Requirement already satisfied: pooch<1.7,>=1.0 in /usr/local/lib/python3.10/dist-packages (from librosa>=0.8.0->basic-pitch) (1.6.0)\n",
            "Requirement already satisfied: audioread>=2.1.9 in /usr/local/lib/python3.10/dist-packages (from librosa>=0.8.0->basic-pitch) (3.0.0)\n",
            "Requirement already satisfied: msgpack>=1.0 in /usr/local/lib/python3.10/dist-packages (from librosa>=0.8.0->basic-pitch) (1.0.5)\n",
            "Requirement already satisfied: lazy-loader>=0.1 in /usr/local/lib/python3.10/dist-packages (from librosa>=0.8.0->basic-pitch) (0.2)\n",
            "Requirement already satisfied: soxr>=0.3.2 in /usr/local/lib/python3.10/dist-packages (from librosa>=0.8.0->basic-pitch) (0.3.5)\n",
            "Requirement already satisfied: future in /usr/local/lib/python3.10/dist-packages (from mir-eval>=0.6->basic-pitch) (0.18.3)\n",
            "Requirement already satisfied: six in /usr/local/lib/python3.10/dist-packages (from mir-eval>=0.6->basic-pitch) (1.16.0)\n",
            "Collecting mido>=1.1.16\n",
            "  Downloading mido-1.2.10-py2.py3-none-any.whl (51 kB)\n",
            "\u001b[2K     \u001b[90m━━━━━━━━━━━━━━━━━━━━━━━━━━━━━━━━━━━━━━━━\u001b[0m \u001b[32m51.1/51.1 kB\u001b[0m \u001b[31m6.0 MB/s\u001b[0m eta \u001b[36m0:00:00\u001b[0m\n",
            "\u001b[?25hRequirement already satisfied: gast<=0.4.0,>=0.2.1 in /usr/local/lib/python3.10/dist-packages (from tensorflow<2.12,>=2.4.1->basic-pitch) (0.4.0)\n",
            "Collecting protobuf<3.20,>=3.9.2\n",
            "  Downloading protobuf-3.19.6-cp310-cp310-manylinux_2_17_x86_64.manylinux2014_x86_64.whl (1.1 MB)\n",
            "\u001b[2K     \u001b[90m━━━━━━━━━━━━━━━━━━━━━━━━━━━━━━━━━━━━━━━━\u001b[0m \u001b[32m1.1/1.1 MB\u001b[0m \u001b[31m51.6 MB/s\u001b[0m eta \u001b[36m0:00:00\u001b[0m\n",
            "\u001b[?25hCollecting tensorflow-estimator<2.12,>=2.11.0\n",
            "  Downloading tensorflow_estimator-2.11.0-py2.py3-none-any.whl (439 kB)\n",
            "\u001b[2K     \u001b[90m━━━━━━━━━━━━━━━━━━━━━━━━━━━━━━━━━━━━━━\u001b[0m \u001b[32m439.2/439.2 kB\u001b[0m \u001b[31m38.2 MB/s\u001b[0m eta \u001b[36m0:00:00\u001b[0m\n",
            "\u001b[?25hRequirement already satisfied: grpcio<2.0,>=1.24.3 in /usr/local/lib/python3.10/dist-packages (from tensorflow<2.12,>=2.4.1->basic-pitch) (1.54.0)\n",
            "Requirement already satisfied: flatbuffers>=2.0 in /usr/local/lib/python3.10/dist-packages (from tensorflow<2.12,>=2.4.1->basic-pitch) (23.3.3)\n",
            "Requirement already satisfied: absl-py>=1.0.0 in /usr/local/lib/python3.10/dist-packages (from tensorflow<2.12,>=2.4.1->basic-pitch) (1.4.0)\n",
            "Collecting tensorboard<2.12,>=2.11\n",
            "  Downloading tensorboard-2.11.2-py3-none-any.whl (6.0 MB)\n",
            "\u001b[2K     \u001b[90m━━━━━━━━━━━━━━━━━━━━━━━━━━━━━━━━━━━━━━━━\u001b[0m \u001b[32m6.0/6.0 MB\u001b[0m \u001b[31m65.6 MB/s\u001b[0m eta \u001b[36m0:00:00\u001b[0m\n",
            "\u001b[?25hRequirement already satisfied: packaging in /usr/local/lib/python3.10/dist-packages (from tensorflow<2.12,>=2.4.1->basic-pitch) (23.1)\n",
            "Requirement already satisfied: google-pasta>=0.1.1 in /usr/local/lib/python3.10/dist-packages (from tensorflow<2.12,>=2.4.1->basic-pitch) (0.2.0)\n",
            "Requirement already satisfied: h5py>=2.9.0 in /usr/local/lib/python3.10/dist-packages (from tensorflow<2.12,>=2.4.1->basic-pitch) (3.8.0)\n",
            "Requirement already satisfied: wrapt>=1.11.0 in /usr/local/lib/python3.10/dist-packages (from tensorflow<2.12,>=2.4.1->basic-pitch) (1.14.1)\n",
            "Requirement already satisfied: libclang>=13.0.0 in /usr/local/lib/python3.10/dist-packages (from tensorflow<2.12,>=2.4.1->basic-pitch) (16.0.0)\n",
            "Requirement already satisfied: tensorflow-io-gcs-filesystem>=0.23.1 in /usr/local/lib/python3.10/dist-packages (from tensorflow<2.12,>=2.4.1->basic-pitch) (0.32.0)\n",
            "Requirement already satisfied: setuptools in /usr/local/lib/python3.10/dist-packages (from tensorflow<2.12,>=2.4.1->basic-pitch) (67.7.2)\n",
            "Requirement already satisfied: opt-einsum>=2.3.2 in /usr/local/lib/python3.10/dist-packages (from tensorflow<2.12,>=2.4.1->basic-pitch) (3.3.0)\n",
            "Collecting keras<2.12,>=2.11.0\n",
            "  Downloading keras-2.11.0-py2.py3-none-any.whl (1.7 MB)\n",
            "\u001b[2K     \u001b[90m━━━━━━━━━━━━━━━━━━━━━━━━━━━━━━━━━━━━━━━━\u001b[0m \u001b[32m1.7/1.7 MB\u001b[0m \u001b[31m70.0 MB/s\u001b[0m eta \u001b[36m0:00:00\u001b[0m\n",
            "\u001b[?25hRequirement already satisfied: termcolor>=1.1.0 in /usr/local/lib/python3.10/dist-packages (from tensorflow<2.12,>=2.4.1->basic-pitch) (2.3.0)\n",
            "Requirement already satisfied: astunparse>=1.6.0 in /usr/local/lib/python3.10/dist-packages (from tensorflow<2.12,>=2.4.1->basic-pitch) (1.6.3)\n",
            "Requirement already satisfied: wheel<1.0,>=0.23.0 in /usr/local/lib/python3.10/dist-packages (from astunparse>=1.6.0->tensorflow<2.12,>=2.4.1->basic-pitch) (0.40.0)\n",
            "Requirement already satisfied: llvmlite<0.40,>=0.39.0dev0 in /usr/local/lib/python3.10/dist-packages (from numba>=0.51.0->librosa>=0.8.0->basic-pitch) (0.39.1)\n",
            "Requirement already satisfied: appdirs>=1.3.0 in /usr/local/lib/python3.10/dist-packages (from pooch<1.7,>=1.0->librosa>=0.8.0->basic-pitch) (1.4.4)\n",
            "Requirement already satisfied: requests>=2.19.0 in /usr/local/lib/python3.10/dist-packages (from pooch<1.7,>=1.0->librosa>=0.8.0->basic-pitch) (2.27.1)\n",
            "Requirement already satisfied: threadpoolctl>=2.0.0 in /usr/local/lib/python3.10/dist-packages (from scikit-learn>=0.20.0->librosa>=0.8.0->basic-pitch) (3.1.0)\n",
            "Requirement already satisfied: cffi>=1.0 in /usr/local/lib/python3.10/dist-packages (from soundfile>=0.12.1->librosa>=0.8.0->basic-pitch) (1.15.1)\n",
            "Requirement already satisfied: tensorboard-plugin-wit>=1.6.0 in /usr/local/lib/python3.10/dist-packages (from tensorboard<2.12,>=2.11->tensorflow<2.12,>=2.4.1->basic-pitch) (1.8.1)\n",
            "Collecting google-auth-oauthlib<0.5,>=0.4.1\n",
            "  Downloading google_auth_oauthlib-0.4.6-py2.py3-none-any.whl (18 kB)\n",
            "Collecting tensorboard-data-server<0.7.0,>=0.6.0\n",
            "  Downloading tensorboard_data_server-0.6.1-py3-none-manylinux2010_x86_64.whl (4.9 MB)\n",
            "\u001b[2K     \u001b[90m━━━━━━━━━━━━━━━━━━━━━━━━━━━━━━━━━━━━━━━━\u001b[0m \u001b[32m4.9/4.9 MB\u001b[0m \u001b[31m72.9 MB/s\u001b[0m eta \u001b[36m0:00:00\u001b[0m\n",
            "\u001b[?25hRequirement already satisfied: werkzeug>=1.0.1 in /usr/local/lib/python3.10/dist-packages (from tensorboard<2.12,>=2.11->tensorflow<2.12,>=2.4.1->basic-pitch) (2.3.0)\n",
            "Requirement already satisfied: markdown>=2.6.8 in /usr/local/lib/python3.10/dist-packages (from tensorboard<2.12,>=2.11->tensorflow<2.12,>=2.4.1->basic-pitch) (3.4.3)\n",
            "Requirement already satisfied: google-auth<3,>=1.6.3 in /usr/local/lib/python3.10/dist-packages (from tensorboard<2.12,>=2.11->tensorflow<2.12,>=2.4.1->basic-pitch) (2.17.3)\n",
            "Requirement already satisfied: pycparser in /usr/local/lib/python3.10/dist-packages (from cffi>=1.0->soundfile>=0.12.1->librosa>=0.8.0->basic-pitch) (2.21)\n",
            "Requirement already satisfied: rsa<5,>=3.1.4 in /usr/local/lib/python3.10/dist-packages (from google-auth<3,>=1.6.3->tensorboard<2.12,>=2.11->tensorflow<2.12,>=2.4.1->basic-pitch) (4.9)\n",
            "Requirement already satisfied: cachetools<6.0,>=2.0.0 in /usr/local/lib/python3.10/dist-packages (from google-auth<3,>=1.6.3->tensorboard<2.12,>=2.11->tensorflow<2.12,>=2.4.1->basic-pitch) (5.3.0)\n",
            "Requirement already satisfied: pyasn1-modules>=0.2.1 in /usr/local/lib/python3.10/dist-packages (from google-auth<3,>=1.6.3->tensorboard<2.12,>=2.11->tensorflow<2.12,>=2.4.1->basic-pitch) (0.3.0)\n",
            "Requirement already satisfied: requests-oauthlib>=0.7.0 in /usr/local/lib/python3.10/dist-packages (from google-auth-oauthlib<0.5,>=0.4.1->tensorboard<2.12,>=2.11->tensorflow<2.12,>=2.4.1->basic-pitch) (1.3.1)\n",
            "Requirement already satisfied: urllib3<1.27,>=1.21.1 in /usr/local/lib/python3.10/dist-packages (from requests>=2.19.0->pooch<1.7,>=1.0->librosa>=0.8.0->basic-pitch) (1.26.15)\n",
            "Requirement already satisfied: certifi>=2017.4.17 in /usr/local/lib/python3.10/dist-packages (from requests>=2.19.0->pooch<1.7,>=1.0->librosa>=0.8.0->basic-pitch) (2022.12.7)\n",
            "Requirement already satisfied: idna<4,>=2.5 in /usr/local/lib/python3.10/dist-packages (from requests>=2.19.0->pooch<1.7,>=1.0->librosa>=0.8.0->basic-pitch) (3.4)\n",
            "Requirement already satisfied: charset-normalizer~=2.0.0 in /usr/local/lib/python3.10/dist-packages (from requests>=2.19.0->pooch<1.7,>=1.0->librosa>=0.8.0->basic-pitch) (2.0.12)\n",
            "Requirement already satisfied: MarkupSafe>=2.1.1 in /usr/local/lib/python3.10/dist-packages (from werkzeug>=1.0.1->tensorboard<2.12,>=2.11->tensorflow<2.12,>=2.4.1->basic-pitch) (2.1.2)\n",
            "Requirement already satisfied: pyasn1<0.6.0,>=0.4.6 in /usr/local/lib/python3.10/dist-packages (from pyasn1-modules>=0.2.1->google-auth<3,>=1.6.3->tensorboard<2.12,>=2.11->tensorflow<2.12,>=2.4.1->basic-pitch) (0.5.0)\n",
            "Requirement already satisfied: oauthlib>=3.0.0 in /usr/local/lib/python3.10/dist-packages (from requests-oauthlib>=0.7.0->google-auth-oauthlib<0.5,>=0.4.1->tensorboard<2.12,>=2.11->tensorflow<2.12,>=2.4.1->basic-pitch) (3.2.2)\n",
            "Building wheels for collected packages: mir-eval, pretty-midi\n",
            "  Building wheel for mir-eval (setup.py) ... \u001b[?25l\u001b[?25hdone\n",
            "  Created wheel for mir-eval: filename=mir_eval-0.7-py3-none-any.whl size=100718 sha256=14c1cce267f661c28e547f4b309b1d7b3cea8dcc50a2a5e2ee1398c569e4eeaf\n",
            "  Stored in directory: /root/.cache/pip/wheels/3e/2f/0d/dda9c4c77a170e21356b6afa2f7d9bb078338634ba05d94e3f\n",
            "  Building wheel for pretty-midi (setup.py) ... \u001b[?25l\u001b[?25hdone\n",
            "  Created wheel for pretty-midi: filename=pretty_midi-0.2.10-py3-none-any.whl size=5592303 sha256=77b6289e85f5ab7e30147117c35165c97140b90241cb0f931031cad29691bcfe\n",
            "  Stored in directory: /root/.cache/pip/wheels/cd/a5/30/7b8b7f58709f5150f67f98fde4b891ebf0be9ef07a8af49f25\n",
            "Successfully built mir-eval pretty-midi\n",
            "Installing collected packages: mido, tensorflow-estimator, tensorboard-data-server, protobuf, pretty-midi, keras, resampy, mir-eval, google-auth-oauthlib, tensorboard, tensorflow, basic-pitch\n",
            "  Attempting uninstall: tensorflow-estimator\n",
            "    Found existing installation: tensorflow-estimator 2.12.0\n",
            "    Uninstalling tensorflow-estimator-2.12.0:\n",
            "      Successfully uninstalled tensorflow-estimator-2.12.0\n",
            "  Attempting uninstall: tensorboard-data-server\n",
            "    Found existing installation: tensorboard-data-server 0.7.0\n",
            "    Uninstalling tensorboard-data-server-0.7.0:\n",
            "      Successfully uninstalled tensorboard-data-server-0.7.0\n",
            "  Attempting uninstall: protobuf\n",
            "    Found existing installation: protobuf 3.20.3\n",
            "    Uninstalling protobuf-3.20.3:\n",
            "      Successfully uninstalled protobuf-3.20.3\n",
            "  Attempting uninstall: keras\n",
            "    Found existing installation: keras 2.12.0\n",
            "    Uninstalling keras-2.12.0:\n",
            "      Successfully uninstalled keras-2.12.0\n",
            "  Attempting uninstall: google-auth-oauthlib\n",
            "    Found existing installation: google-auth-oauthlib 1.0.0\n",
            "    Uninstalling google-auth-oauthlib-1.0.0:\n",
            "      Successfully uninstalled google-auth-oauthlib-1.0.0\n",
            "  Attempting uninstall: tensorboard\n",
            "    Found existing installation: tensorboard 2.12.2\n",
            "    Uninstalling tensorboard-2.12.2:\n",
            "      Successfully uninstalled tensorboard-2.12.2\n",
            "  Attempting uninstall: tensorflow\n",
            "    Found existing installation: tensorflow 2.12.0\n",
            "    Uninstalling tensorflow-2.12.0:\n",
            "      Successfully uninstalled tensorflow-2.12.0\n",
            "\u001b[31mERROR: pip's dependency resolver does not currently take into account all the packages that are installed. This behaviour is the source of the following dependency conflicts.\n",
            "tensorflow-metadata 1.13.1 requires protobuf<5,>=3.20.3, but you have protobuf 3.19.6 which is incompatible.\n",
            "tensorflow-datasets 4.9.2 requires protobuf>=3.20, but you have protobuf 3.19.6 which is incompatible.\u001b[0m\u001b[31m\n",
            "\u001b[0mSuccessfully installed basic-pitch-0.2.4 google-auth-oauthlib-0.4.6 keras-2.11.0 mido-1.2.10 mir-eval-0.7 pretty-midi-0.2.10 protobuf-3.19.6 resampy-0.4.2 tensorboard-2.11.2 tensorboard-data-server-0.6.1 tensorflow-2.11.1 tensorflow-estimator-2.11.0\n"
          ]
        }
      ]
    },
    {
      "cell_type": "code",
      "source": [
        "%cd /content/\n",
        "!git clone https://github.com/tatami-galaxy/wav2tab.git\n",
        "%cd wav2tab/\n",
        "!python repo_setup.py\n",
        "!pip install -r requirements.txt"
      ],
      "metadata": {
        "colab": {
          "base_uri": "https://localhost:8080/"
        },
        "id": "O7VeARCKIANK",
        "outputId": "79c5735e-ffef-4154-806a-8eff6231c775"
      },
      "execution_count": null,
      "outputs": [
        {
          "output_type": "stream",
          "name": "stdout",
          "text": [
            "/content\n",
            "Cloning into 'wav2tab'...\n",
            "remote: Enumerating objects: 138, done.\u001b[K\n",
            "remote: Counting objects: 100% (42/42), done.\u001b[K\n",
            "remote: Compressing objects: 100% (28/28), done.\u001b[K\n",
            "remote: Total 138 (delta 17), reused 35 (delta 13), pack-reused 96\u001b[K\n",
            "Receiving objects: 100% (138/138), 139.95 MiB | 1.32 MiB/s, done.\n",
            "Resolving deltas: 100% (49/49), done.\n"
          ]
        }
      ]
    },
    {
      "cell_type": "code",
      "source": [
        "from argparse import ArgumentParser\n",
        "import io\n",
        "from pathlib import Path\n",
        "import select\n",
        "from shutil import rmtree\n",
        "import subprocess as sp\n",
        "import sys\n",
        "from typing import Dict, Tuple, Optional, IO\n",
        "from os.path import dirname, abspath\n",
        "from basic_pitch.inference import predict\n",
        "from basic_pitch import ICASSP_2022_MODEL_PATH\n",
        "import numpy as np\n",
        "import librosa\n",
        "\n",
        "# get root directory\n",
        "#root = abspath(__file__)\n",
        "#while root.split('/')[-1] != 'wav2tab':\n",
        "    #root = dirname(root)\n",
        "\n",
        "# hyps #\n",
        "\n",
        "model = \"htdemucs\"\n",
        "extensions = [\"mp3\", \"wav\", \"ogg\", \"flac\"]  # we will look for all those file types.\n",
        "two_stems = None   # only separate one stems from the rest, for instance\n",
        "# two_stems = \"vocals\"\n",
        "\n",
        "# Options for the output audio.\n",
        "mp3 = True\n",
        "mp3_rate = 320\n",
        "float32 = False  # output as float 32 wavs, unsused if 'mp3' is True.\n",
        "int24 = False    # output as int24 wavs, unused if 'mp3' is True.\n",
        "# You cannot set both `float32 = True` and `int24 = True` !!\n",
        "\n",
        "def find_files(in_path):\n",
        "    out = []\n",
        "    for file in Path(in_path).iterdir():\n",
        "        if file.suffix.lower().lstrip(\".\") in extensions:\n",
        "            out.append(file)\n",
        "    return out\n",
        "\n",
        "\n",
        "def copy_process_streams(process: sp.Popen):\n",
        "    def raw(stream: Optional[IO[bytes]]) -> IO[bytes]:\n",
        "        assert stream is not None\n",
        "        if isinstance(stream, io.BufferedIOBase):\n",
        "            stream = stream.raw\n",
        "        return stream\n",
        "\n",
        "    p_stdout, p_stderr = raw(process.stdout), raw(process.stderr)\n",
        "    stream_by_fd: Dict[int, Tuple[IO[bytes], io.StringIO, IO[str]]] = {\n",
        "        p_stdout.fileno(): (p_stdout, sys.stdout),\n",
        "        p_stderr.fileno(): (p_stderr, sys.stderr),\n",
        "    }\n",
        "    fds = list(stream_by_fd.keys())\n",
        "\n",
        "    while fds:\n",
        "        # `select` syscall will wait until one of the file descriptors has content.\n",
        "        ready, _, _ = select.select(fds, [], [])\n",
        "        for fd in ready:\n",
        "            p_stream, std = stream_by_fd[fd]\n",
        "            raw_buf = p_stream.read(2 ** 16)\n",
        "            if not raw_buf:\n",
        "                fds.remove(fd)\n",
        "                continue\n",
        "            buf = raw_buf.decode()\n",
        "            std.write(buf)\n",
        "            std.flush()\n",
        "\n",
        "# separate all song in directory passed in\n",
        "def separate_dir(inp=None, outp=None):\n",
        "    inp = inp \n",
        "    outp = outp \n",
        "    cmd = [\"python3\", \"-m\", \"demucs.separate\", \"-o\", str(outp), \"-n\", model]\n",
        "    if mp3:\n",
        "        cmd += [\"--mp3\", f\"--mp3-bitrate={mp3_rate}\"]\n",
        "    if float32:\n",
        "        cmd += [\"--float32\"]\n",
        "    if int24:\n",
        "        cmd += [\"--int24\"]\n",
        "    if two_stems is not None:\n",
        "        cmd += [f\"--two-stems={two_stems}\"]\n",
        "    files = [str(f) for f in find_files(inp)]\n",
        "    if not files:\n",
        "        print(f\"No valid audio files in {inp}\")\n",
        "        return\n",
        "    print(\"Going to separate the files:\")\n",
        "    print('\\n'.join(files))\n",
        "    print(\"With command: \", \" \".join(cmd))\n",
        "    p = sp.Popen(cmd + files, stdout=sp.PIPE, stderr=sp.PIPE)\n",
        "    copy_process_streams(p)\n",
        "    p.wait()\n",
        "    if p.returncode != 0:\n",
        "        print(\"Command failed, something went wrong.\")\n",
        "\n",
        "\n",
        "def separate(inp=None, outp=None):\n",
        "    inp = inp \n",
        "    outp = outp \n",
        "    cmd = [\"demucs\", \"-o\", str(outp)]\n",
        "    if mp3:\n",
        "        cmd += [\"--mp3\", f\"--mp3-bitrate={mp3_rate}\"]\n",
        "    if float32:\n",
        "        cmd += [\"--float32\"]\n",
        "    if int24:\n",
        "        cmd += [\"--int24\"]\n",
        "    if two_stems is not None:\n",
        "        cmd += [f\"--two-stems={two_stems}\"]\n",
        "\n",
        "    print(\"Going to separate file:\")\n",
        "    print(inp)\n",
        "    print(\"With command: \", \" \".join(cmd))\n",
        "    p = sp.Popen(cmd + [inp], stdout=sp.PIPE, stderr=sp.PIPE)\n",
        "\n",
        "    copy_process_streams(p)\n",
        "    p.wait()\n",
        "    if p.returncode != 0:\n",
        "        print(\"Command failed, something went wrong.\")\n",
        "\n",
        "\n",
        "def pitch_to_note(note_events):\n",
        "    ret_list = []\n",
        "    for event in note_events:\n",
        "        l = list(event)\n",
        "        note = librosa.midi_to_note(event[2], unicode=False)  # event[2] is pitch\n",
        "        l[2] = note\n",
        "        ret_list.append(l)\n",
        "    return ret_list"
      ],
      "metadata": {
        "id": "ou1Y7r46Ibcr"
      },
      "execution_count": null,
      "outputs": []
    },
    {
      "cell_type": "code",
      "source": [
        "# song input -> mp3 file (for now)\n",
        "# make sure file has no space in name (for now)\n",
        "in_path = '/content/behind_blue_eyes.mp3'\n",
        "out_path = '/content/'\n",
        "# stems output\n",
        "# separate into stems -> other.mp3 has guitar for now\n",
        "separate(in_path, out_path)\n",
        "\n",
        "# midi : pretty_midi.PrettyMIDI object\n",
        "# note_events: A list of note event tuples (start_time_s, end_time_s, pitch_midi, amplitude, bends)\n",
        "outfile_path = out_path + 'htdemucs/' + in_path.split('/')[-1].split('.mp3')[0] + '/other.mp3'\n",
        "\n",
        "model_output, midi_data, note_events = predict(outfile_path)\n",
        "\n",
        "# sort note events according to start time \n",
        "sorted_events = sorted(note_events, key=lambda x: x[0])  # x[0] is start time\n",
        "\n",
        "# midi pitch to note\n",
        "# each event is now a list [start_time_s, end_time_s, pitch_midi, amplitude, bends]\n",
        "note_events = pitch_to_note(sorted_events)\n",
        "\n",
        "#print(note_events[0])"
      ],
      "metadata": {
        "colab": {
          "base_uri": "https://localhost:8080/"
        },
        "id": "XsWrcM1yInfy",
        "outputId": "85a13c3d-033e-4844-cd23-e870b15e6b1e"
      },
      "execution_count": null,
      "outputs": [
        {
          "output_type": "stream",
          "name": "stdout",
          "text": [
            "Going to separate file:\n",
            "/content/behind_blue_eyes.mp3\n",
            "With command:  demucs -o /content/ --mp3 --mp3-bitrate=320\n"
          ]
        },
        {
          "output_type": "stream",
          "name": "stderr",
          "text": [
            "Downloading: \"https://dl.fbaipublicfiles.com/demucs/hybrid_transformer/955717e8-8726e21a.th\" to /root/.cache/torch/hub/checkpoints/955717e8-8726e21a.th\n"
          ]
        },
        {
          "output_type": "stream",
          "name": "stdout",
          "text": [
            "\u001b[1mImportant: the default model was recently changed to `htdemucs`\u001b[0m the latest Hybrid Transformer Demucs model. In some cases, this model can actually perform worse than previous models. To get back the old default model use `-n mdx_extra_q`.\n"
          ]
        },
        {
          "output_type": "stream",
          "name": "stderr",
          "text": [
            "100%|██████████| 80.2M/80.2M [00:00<00:00, 143MB/s]\n"
          ]
        },
        {
          "output_type": "stream",
          "name": "stdout",
          "text": [
            "Selected model is a bag of 1 models. You will see that many progress bars per track.\n",
            "Separated tracks will be stored in /content/htdemucs\n",
            "Separating track /content/behind_blue_eyes.mp3\n"
          ]
        },
        {
          "output_type": "stream",
          "name": "stderr",
          "text": [
            "100%|██████████████████████████████████████████████| 368.54999999999995/368.54999999999995 [00:20<00:00, 18.16seconds/s]\n"
          ]
        },
        {
          "output_type": "stream",
          "name": "stdout",
          "text": [
            "Predicting MIDI for /content/htdemucs/behind_blue_eyes/other.mp3...\n"
          ]
        }
      ]
    },
    {
      "cell_type": "code",
      "source": [
        "print(len(note_events))\n",
        "print(note_events[0])"
      ],
      "metadata": {
        "colab": {
          "base_uri": "https://localhost:8080/"
        },
        "id": "_oXPwMVYJfwJ",
        "outputId": "12a2ae92-d1d6-47ff-b4b8-e0a8f9b1e5cd"
      },
      "execution_count": null,
      "outputs": [
        {
          "output_type": "execute_result",
          "data": {
            "text/plain": [
              "3721"
            ]
          },
          "metadata": {},
          "execution_count": 8
        }
      ]
    },
    {
      "cell_type": "code",
      "source": [
        "import pickle\n",
        "with open(\"/content/note_events\", \"wb\") as fp:\n",
        "    pickle.dump(note_events, fp)"
      ],
      "metadata": {
        "id": "p3W6f1CfLl7x"
      },
      "execution_count": null,
      "outputs": []
    },
    {
      "cell_type": "code",
      "source": [
        "fretboard ={\n",
        "    'E4': {1: 0, 2: 5, 3: 9, 4: -1, 5: -1, 6: -1},\n",
        "    'F4': {1: 1, 2: 6, 3: 10, 4: -1, 5: -1, 6: -1},\n",
        "    'F#4': {1: 2, 2: 7, 3: 11, 4: -1, 5: -1, 6: -1},\n",
        "    'G4': {1: 3, 2: 8, 3: 12, 4: -1, 5: -1, 6: -1},\n",
        "    'G#4': {1: 4, 2: 9, 3: -1, 4: -1, 5: -1, 6: -1},\n",
        "    'A4': {1: 5, 2: 10, 3: -1, 4: -1, 5: -1, 6: -1},\n",
        "    'A#4': {1: 6, 2: 11, 3: -1, 4: -1, 5: -1, 6: -1},\n",
        "    'B4': {1: 7, 2: 12, 3: -1, 4: -1, 5: -1, 6: -1},\n",
        "    'C5': {1: 8, 2: -1, 3: -1, 4: -1, 5: -1, 6: -1},\n",
        "    'C#5': {1: 9, 2: -1, 3: -1, 4: -1, 5: -1, 6: -1},\n",
        "    'D5': {1: 10, 2: -1, 3: -1, 4: -1, 5: -1, 6: -1},\n",
        "    'D#5': {1: 11, 2: -1, 3: -1, 4: -1, 5: -1, 6: -1},\n",
        "    'E5': {1: 12, 2: -1, 3: -1, 4: -1, 5: -1, 6: -1},\n",
        "    'B3': {1: -1, 2: 0, 3: 4, 4: 9, 5: -1, 6: -1},\n",
        "    'C4': {1: -1, 2: 1, 3: 5, 4: 10, 5: -1, 6: -1},\n",
        "    'C#4': {1: -1, 2: 2, 3: 6, 4: 11, 5: -1, 6: -1},\n",
        "    'D4': {1: -1, 2: 3, 3: 7, 4: 12, 5: -1, 6: -1},\n",
        "    'D#4': {1: -1, 2: 4, 3: 8, 4: -1, 5: -1, 6: -1},\n",
        "    'G3': {1: -1, 2: -1, 3: 0, 4: 5, 5: 10, 6: -1},\n",
        "    'G#3': {1: -1, 2: -1, 3: 1, 4: 6, 5: 11, 6: -1},\n",
        "    'A3': {1: -1, 2: -1, 3: 2, 4: 7, 5: 12, 6: -1},\n",
        "    'A#3': {1: -1, 2: -1, 3: 3, 4: 8, 5: -1, 6: -1},\n",
        "    'D3': {1: -1, 2: -1, 3: -1, 4: 0, 5: 5, 6: 10},\n",
        "    'D#3': {1: -1, 2: -1, 3: -1, 4: 1, 5: 6, 6: 11},\n",
        "    'E3': {1: -1, 2: -1, 3: -1, 4: 2, 5: 7, 6: 12},\n",
        "    'F3': {1: -1, 2: -1, 3: -1, 4: 3, 5: 8, 6: -1},\n",
        "    'F#3': {1: -1, 2: -1, 3: -1, 4: 4, 5: 9, 6: -1},\n",
        "    'A2': {1: -1, 2: -1, 3: -1, 4: -1, 5: 0, 6: 5},\n",
        "    'A#2': {1: -1, 2: -1, 3: -1, 4: -1, 5: 1, 6: 6},\n",
        "    'B2': {1: -1, 2: -1, 3: -1, 4: -1, 5: 2, 6: 7},\n",
        "    'C3': {1: -1, 2: -1, 3: -1, 4: -1, 5: 3, 6: 8},\n",
        "    'C#3': {1: -1, 2: -1, 3: -1, 4: -1, 5: 4, 6: 9},\n",
        "    'E2': {1: -1, 2: -1, 3: -1, 4: -1, 5: -1, 6: 0},\n",
        "    'F2': {1: -1, 2: -1, 3: -1, 4: -1, 5: -1, 6: 1},\n",
        "    'F#2': {1: -1, 2: -1, 3: -1, 4: -1, 5: -1, 6: 2},\n",
        "    'G2': {1: -1, 2: -1, 3: -1, 4: -1, 5: -1, 6: 3},\n",
        "    'G#2': {1: -1, 2: -1, 3: -1, 4: -1, 5: -1, 6: 4},\n",
        "}"
      ],
      "metadata": {
        "id": "CEN6dZ40MPER"
      },
      "execution_count": null,
      "outputs": []
    },
    {
      "cell_type": "code",
      "source": [
        "import pickle\n",
        "with open(\"note_events\", \"rb\") as fp:\n",
        "    note_events = pickle.load(fp)\n",
        "\n",
        "print(len(note_events))"
      ],
      "metadata": {
        "id": "uDYGkxT-MQKv"
      },
      "execution_count": null,
      "outputs": []
    },
    {
      "cell_type": "code",
      "source": [
        "#diffs = []\n",
        "#for i in range(len(note_events) - 1):\n",
        "    #diffs.append(note_events[i+1][0] - note_events[i][0])\n",
        "\n",
        "#len([x for x in diffs if x < 3])"
      ],
      "metadata": {
        "id": "kTENNLKmwS_k"
      },
      "execution_count": null,
      "outputs": []
    },
    {
      "cell_type": "code",
      "source": [
        "# take first choice #\n",
        "\n",
        "tab = []\n",
        "\n",
        "E1 = 'E'+'-'*50\n",
        "B = 'B'+'-'*50\n",
        "G = 'G'+'-'*50\n",
        "D = 'D'+'-'*50\n",
        "A = 'A'+'-'*50\n",
        "E2 = 'E'+'-'*50\n",
        "\n",
        "tab.append(E1)\n",
        "tab.append(B)\n",
        "tab.append(G)\n",
        "tab.append(D)\n",
        "tab.append(A)\n",
        "tab.append(E2)\n",
        "\n",
        "for i in range(40):\n",
        "    note = note_events[i][2]\n",
        "    if note not in fretboard: continue\n",
        "    for string, fret in fretboard[note].items():\n",
        "        if fret != -1:\n",
        "            new_string = list(tab[string-1])\n",
        "            new_string[i+2] = str(fret)\n",
        "            tab[string-1] = ''.join(new_string)\n",
        "            break\n",
        "\n",
        "            \n",
        "\n",
        "\n",
        "\n",
        "\n",
        "\n",
        "\n",
        "# final print\n",
        "for string in tab:\n",
        "    print(string)"
      ],
      "metadata": {
        "colab": {
          "base_uri": "https://localhost:8080/"
        },
        "id": "8huTcsjtSLbe",
        "outputId": "a674061c-5289-4b3f-8b2d-efa25871f6ae"
      },
      "execution_count": null,
      "outputs": [
        {
          "output_type": "stream",
          "name": "stdout",
          "text": [
            "E-----4----40--3---------------0------5------------\n",
            "B------0------0--0-0----0-------3------------------\n",
            "G-------0-------0-------------------0--------------\n",
            "D--------2---2--------------0----0-0---0-0---------\n",
            "A----2------------2-2----2-------------------------\n",
            "E-0-0-----0----------3-3---3-33---3--3--3----------\n"
          ]
        }
      ]
    },
    {
      "cell_type": "code",
      "source": [
        "note_events[1]"
      ],
      "metadata": {
        "colab": {
          "base_uri": "https://localhost:8080/"
        },
        "id": "iyqx8q8ZsyhZ",
        "outputId": "df38c167-8e59-46f6-e590-8afab2675f63"
      },
      "execution_count": null,
      "outputs": [
        {
          "output_type": "execute_result",
          "data": {
            "text/plain": [
              "[0.626938775510204,\n",
              " 0.7662585034013606,\n",
              " 'D#4',\n",
              " 0.65871483,\n",
              " [1, 1, 1, 1, 1, 1, 1, 1, 1, 1, 1, 1]]"
            ]
          },
          "metadata": {},
          "execution_count": 5
        }
      ]
    },
    {
      "cell_type": "code",
      "source": [
        "new_string = list(tab[0])\n",
        "new_string[2] = '2'\n",
        "tab[0] = ''.join(new_string)\n",
        "\n",
        "for string in tab:\n",
        "    print(string)"
      ],
      "metadata": {
        "colab": {
          "base_uri": "https://localhost:8080/"
        },
        "id": "PlJkBKOKSqqh",
        "outputId": "659af58b-ffdc-45fe-c161-e117a272da6b"
      },
      "execution_count": null,
      "outputs": [
        {
          "output_type": "stream",
          "name": "stdout",
          "text": [
            "E-2------------------------------------------------\n",
            "B--------------------------------------------------\n",
            "G--------------------------------------------------\n",
            "D--------------------------------------------------\n",
            "A--------------------------------------------------\n",
            "E--------------------------------------------------\n"
          ]
        }
      ]
    },
    {
      "cell_type": "code",
      "source": [],
      "metadata": {
        "id": "K_a4daUoj-Mw"
      },
      "execution_count": null,
      "outputs": []
    }
  ],
  "metadata": {
    "colab": {
      "provenance": [],
      "gpuType": "T4"
    },
    "gpuClass": "standard",
    "kernelspec": {
      "display_name": "Python 3",
      "name": "python3"
    },
    "language_info": {
      "name": "python"
    },
    "accelerator": "GPU"
  },
  "nbformat": 4,
  "nbformat_minor": 0
}