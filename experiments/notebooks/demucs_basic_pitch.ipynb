{
  "cells": [
    {
      "cell_type": "markdown",
      "metadata": {
        "id": "uLghRcAdqaph"
      },
      "source": [
        "# Hybrid Demucs from Colab"
      ]
    },
    {
      "cell_type": "code",
      "execution_count": 1,
      "metadata": {
        "id": "79JbZGcAqX3p"
      },
      "outputs": [],
      "source": [
        "%%capture\n",
        "\n",
        "!python3 -m pip install -U git+https://github.com/facebookresearch/demucs#egg=demucs\n",
        "!pip install basic-pitch --upgrade"
      ]
    },
    {
      "cell_type": "code",
      "execution_count": 27,
      "metadata": {
        "id": "znCvBifRrO-b"
      },
      "outputs": [],
      "source": [
        "from argparse import ArgumentParser\n",
        "import io\n",
        "from pathlib import Path\n",
        "import select\n",
        "from shutil import rmtree\n",
        "import subprocess as sp\n",
        "import sys\n",
        "from typing import Dict, Tuple, Optional, IO\n",
        "from os.path import dirname, abspath\n",
        "from basic_pitch.inference import predict\n",
        "from basic_pitch import ICASSP_2022_MODEL_PATH\n",
        "import numpy as np\n",
        "import librosa"
      ]
    },
    {
      "cell_type": "markdown",
      "metadata": {
        "id": "yDnJyhdV-Sbe"
      },
      "source": [
        "model and hyperparamters"
      ]
    },
    {
      "cell_type": "code",
      "execution_count": null,
      "metadata": {
        "id": "F6Cc6lX_-RBP"
      },
      "outputs": [],
      "source": [
        "model = \"htdemucs\"\n",
        "extensions = [\"mp3\", \"wav\", \"ogg\", \"flac\"]  # we will look for all those file types.\n",
        "two_stems = None   # only separate one stems from the rest, for instance\n",
        "# two_stems = \"vocals\"\n",
        "\n",
        "# Options for the output audio.\n",
        "mp3 = True\n",
        "mp3_rate = 320\n",
        "float32 = False  # output as float 32 wavs, unsused if 'mp3' is True.\n",
        "int24 = False    # output as int24 wavs, unused if 'mp3' is True.\n",
        "# You cannot set both `float32 = True` and `int24 = True` !!"
      ]
    },
    {
      "cell_type": "markdown",
      "metadata": {
        "id": "GABDt2Md-W4w"
      },
      "source": [
        "functions for source separation"
      ]
    },
    {
      "cell_type": "code",
      "execution_count": 3,
      "metadata": {
        "id": "kMKN9BN4r37E"
      },
      "outputs": [],
      "source": [
        "def find_files(in_path):\n",
        "    out = []\n",
        "    for file in Path(in_path).iterdir():\n",
        "        if file.suffix.lower().lstrip(\".\") in extensions:\n",
        "            out.append(file)\n",
        "    return out\n",
        "\n",
        "\n",
        "def copy_process_streams(process: sp.Popen):\n",
        "    def raw(stream: Optional[IO[bytes]]) -> IO[bytes]:\n",
        "        assert stream is not None\n",
        "        if isinstance(stream, io.BufferedIOBase):\n",
        "            stream = stream.raw\n",
        "        return stream\n",
        "\n",
        "    p_stdout, p_stderr = raw(process.stdout), raw(process.stderr)\n",
        "    stream_by_fd: Dict[int, Tuple[IO[bytes], io.StringIO, IO[str]]] = {\n",
        "        p_stdout.fileno(): (p_stdout, sys.stdout),\n",
        "        p_stderr.fileno(): (p_stderr, sys.stderr),\n",
        "    }\n",
        "    fds = list(stream_by_fd.keys())\n",
        "\n",
        "    while fds:\n",
        "        # `select` syscall will wait until one of the file descriptors has content.\n",
        "        ready, _, _ = select.select(fds, [], [])\n",
        "        for fd in ready:\n",
        "            p_stream, std = stream_by_fd[fd]\n",
        "            raw_buf = p_stream.read(2 ** 16)\n",
        "            if not raw_buf:\n",
        "                fds.remove(fd)\n",
        "                continue\n",
        "            buf = raw_buf.decode()\n",
        "            std.write(buf)\n",
        "            std.flush()\n",
        "\n",
        "# separate all song in directory passed in\n",
        "def separate_dir(inp=None, outp=None):\n",
        "    inp = inp \n",
        "    outp = outp \n",
        "    cmd = [\"python3\", \"-m\", \"demucs.separate\", \"-o\", str(outp), \"-n\", model]\n",
        "    if mp3:\n",
        "        cmd += [\"--mp3\", f\"--mp3-bitrate={mp3_rate}\"]\n",
        "    if float32:\n",
        "        cmd += [\"--float32\"]\n",
        "    if int24:\n",
        "        cmd += [\"--int24\"]\n",
        "    if two_stems is not None:\n",
        "        cmd += [f\"--two-stems={two_stems}\"]\n",
        "    files = [str(f) for f in find_files(inp)]\n",
        "    if not files:\n",
        "        print(f\"No valid audio files in {inp}\")\n",
        "        return\n",
        "    print(\"Going to separate the files:\")\n",
        "    print('\\n'.join(files))\n",
        "    print(\"With command: \", \" \".join(cmd))\n",
        "    p = sp.Popen(cmd + files, stdout=sp.PIPE, stderr=sp.PIPE)\n",
        "    copy_process_streams(p)\n",
        "    p.wait()\n",
        "    if p.returncode != 0:\n",
        "        print(\"Command failed, something went wrong.\")\n",
        "\n",
        "\n",
        "def separate(inp=None, outp=None):\n",
        "    inp = inp \n",
        "    outp = outp \n",
        "    cmd = [\"demucs\", \"-o\", str(outp)]\n",
        "    if mp3:\n",
        "        cmd += [\"--mp3\", f\"--mp3-bitrate={mp3_rate}\"]\n",
        "    if float32:\n",
        "        cmd += [\"--float32\"]\n",
        "    if int24:\n",
        "        cmd += [\"--int24\"]\n",
        "    if two_stems is not None:\n",
        "        cmd += [f\"--two-stems={two_stems}\"]\n",
        "\n",
        "    print(\"Going to separate file:\")\n",
        "    print(inp)\n",
        "    print(\"With command: \", \" \".join(cmd))\n",
        "    p = sp.Popen(cmd + [inp], stdout=sp.PIPE, stderr=sp.PIPE)\n",
        "\n",
        "    copy_process_streams(p)\n",
        "    p.wait()\n",
        "    if p.returncode != 0:\n",
        "        print(\"Command failed, something went wrong.\")\n"
      ]
    },
    {
      "cell_type": "markdown",
      "metadata": {
        "id": "LSsLAeI4-cO9"
      },
      "source": [
        "input mp3 path and output path"
      ]
    },
    {
      "cell_type": "code",
      "execution_count": 4,
      "metadata": {
        "id": "8lWqE5vz85NG"
      },
      "outputs": [],
      "source": [
        "in_path = '/content/thunderstruck.mp3'\n",
        "out_path = '/content/'"
      ]
    },
    {
      "cell_type": "markdown",
      "metadata": {
        "id": "ZMkIe2GrE0GK"
      },
      "source": [
        "generate stem and midi from stem"
      ]
    },
    {
      "cell_type": "code",
      "execution_count": 6,
      "metadata": {
        "colab": {
          "base_uri": "https://localhost:8080/"
        },
        "id": "gr9OJvf-tYyt",
        "outputId": "2ebb00a8-6ef5-4a9b-dc79-307bd2db34e6"
      },
      "outputs": [
        {
          "name": "stdout",
          "output_type": "stream",
          "text": [
            "Predicting MIDI for /content/htdemucs/thunderstruck/other.mp3...\n"
          ]
        }
      ],
      "source": [
        "# other.mp3 will have the guitar stem\n",
        "separate(in_path, out_path)\n",
        "\n",
        "# midi : pretty_midi.PrettyMIDI object\n",
        "# note_events: A list of note event tuples (start_time_s, end_time_s, pitch_midi, amplitude, bends)\n",
        "# multiple notes can have the same start time\n",
        "outfile_path = out_path + 'htdemucs/' + in_path.split('/')[-1].split('.mp3')[0] + '/other.mp3'\n",
        "\n",
        "model_output, midi_data, note_events = predict(outfile_path)"
      ]
    },
    {
      "cell_type": "markdown",
      "metadata": {
        "id": "tWMBqql3FSxR"
      },
      "source": [
        "note output"
      ]
    },
    {
      "cell_type": "code",
      "execution_count": 33,
      "metadata": {
        "id": "oXUjKdQxFUjG"
      },
      "outputs": [],
      "source": [
        "def pitch_to_note(note_events):\n",
        "    ret_list = []\n",
        "    for event in note_events:\n",
        "        l = list(event)\n",
        "        note = librosa.midi_to_note(event[2], unicode=False)  # event[2] is pitch\n",
        "        l[2] = note\n",
        "        ret_list.append(l)\n",
        "    return ret_list\n",
        "\n",
        "\n",
        "# sort note events according to start time \n",
        "sorted_events = sorted(note_events, key=lambda x: x[0])  # x[0] is start time\n",
        "\n",
        "# midi pitch to note\n",
        "# each event is now a list (previously tuple)\n",
        "music_note_events = pitch_to_note(sorted_events)"
      ]
    },
    {
      "cell_type": "code",
      "execution_count": null,
      "metadata": {
        "id": "_ta-fBjwVrhk"
      },
      "outputs": [],
      "source": [
        "len(music_note_events)"
      ]
    },
    {
      "cell_type": "code",
      "execution_count": 35,
      "metadata": {
        "colab": {
          "base_uri": "https://localhost:8080/"
        },
        "id": "Ggsz_z_4FVOc",
        "outputId": "96cc1d7a-cf89-4ef7-e3d3-ab9a2a250263"
      },
      "outputs": [
        {
          "data": {
            "text/plain": [
              "[0.4992290249433107,\n",
              " 0.7314285714285714,\n",
              " 'B3',\n",
              " 0.45735344,\n",
              " [1, 1, 1, 1, 1, 1, 1, 1, 1, 1, 1, 3, 0, 0, 0, 0, 1, 1, 1, 1]]"
            ]
          },
          "execution_count": 35,
          "metadata": {},
          "output_type": "execute_result"
        }
      ],
      "source": [
        "music_note_events[0]"
      ]
    },
    {
      "cell_type": "code",
      "execution_count": null,
      "metadata": {
        "id": "RH4wD7kDDjVD"
      },
      "outputs": [],
      "source": []
    }
  ],
  "metadata": {
    "accelerator": "GPU",
    "colab": {
      "provenance": []
    },
    "kernelspec": {
      "display_name": "demucs",
      "language": "python",
      "name": "python3"
    },
    "language_info": {
      "name": "python",
      "version": "3.9.16 (main, Mar  8 2023, 04:29:44) \n[Clang 14.0.6 ]"
    },
    "vscode": {
      "interpreter": {
        "hash": "f2d287c2124a6c0880957fb55822e22159b92775e03eec632b14577be9fa9e7f"
      }
    }
  },
  "nbformat": 4,
  "nbformat_minor": 0
}
