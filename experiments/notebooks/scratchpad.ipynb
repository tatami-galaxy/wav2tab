{
  "cells": [
    {
      "cell_type": "code",
      "source": [
        "!git clone https://github.com/facebookresearch/demucs.git\n",
        "%cd demucs\n",
        "!pip install -e ."
      ],
      "metadata": {
        "id": "yBDYGmsAi9I8"
      },
      "execution_count": null,
      "outputs": []
    },
    {
      "cell_type": "code",
      "source": [
        "%%capture\n",
        "!apt-get install soundstretch\n",
        "!apt install ffmpeg"
      ],
      "metadata": {
        "id": "fN0fFUKojM5H"
      },
      "execution_count": 1,
      "outputs": []
    },
    {
      "cell_type": "code",
      "source": [
        "%%capture\n",
        "!pip install basic-pitch --upgrade"
      ],
      "metadata": {
        "id": "R--Kz5-XHo-L"
      },
      "execution_count": 2,
      "outputs": []
    },
    {
      "cell_type": "code",
      "source": [
        "%%capture\n",
        "%cd /content/\n",
        "!git clone https://github.com/tatami-galaxy/wav2tab.git\n",
        "%cd wav2tab/\n",
        "!python repo_setup.py\n",
        "!pip install -r requirements.txt"
      ],
      "metadata": {
        "id": "O7VeARCKIANK"
      },
      "execution_count": 61,
      "outputs": []
    },
    {
      "cell_type": "code",
      "source": [
        "%cd /content/wav2tab/src"
      ],
      "metadata": {
        "colab": {
          "base_uri": "https://localhost:8080/"
        },
        "id": "qj-EwQtYpStp",
        "outputId": "4aa1b669-6d63-4f88-8fcb-b08dee5687f9"
      },
      "execution_count": 62,
      "outputs": [
        {
          "output_type": "stream",
          "name": "stdout",
          "text": [
            "/content/wav2tab/src\n"
          ]
        }
      ]
    },
    {
      "cell_type": "code",
      "source": [
        "!python wav2tab_v1.py --in_path /content/thunderstruck.mp3 --out_path /content/"
      ],
      "metadata": {
        "colab": {
          "base_uri": "https://localhost:8080/"
        },
        "id": "rUzCa-qcpSwA",
        "outputId": "176e7e2e-6eb2-4e2b-f26c-512f5d5cd8ba"
      },
      "execution_count": 63,
      "outputs": [
        {
          "output_type": "stream",
          "name": "stdout",
          "text": [
            "2023-05-10 13:28:08.121393: I tensorflow/core/platform/cpu_feature_guard.cc:193] This TensorFlow binary is optimized with oneAPI Deep Neural Network Library (oneDNN) to use the following CPU instructions in performance-critical operations:  AVX2 FMA\n",
            "To enable them in other operations, rebuild TensorFlow with the appropriate compiler flags.\n",
            "2023-05-10 13:28:09.154013: W tensorflow/compiler/xla/stream_executor/platform/default/dso_loader.cc:64] Could not load dynamic library 'libnvinfer.so.7'; dlerror: libnvinfer.so.7: cannot open shared object file: No such file or directory; LD_LIBRARY_PATH: /usr/lib64-nvidia\n",
            "2023-05-10 13:28:09.154113: W tensorflow/compiler/xla/stream_executor/platform/default/dso_loader.cc:64] Could not load dynamic library 'libnvinfer_plugin.so.7'; dlerror: libnvinfer_plugin.so.7: cannot open shared object file: No such file or directory; LD_LIBRARY_PATH: /usr/lib64-nvidia\n",
            "2023-05-10 13:28:09.154132: W tensorflow/compiler/tf2tensorrt/utils/py_utils.cc:38] TF-TRT Warning: Cannot dlopen some TensorRT libraries. If you would like to use Nvidia GPU with TensorRT, please make sure the missing libraries mentioned above are installed properly.\n",
            "Going to separate file:\n",
            "/content/thunderstruck.mp3\n",
            "With command:  demucs -o /content/ --mp3 --mp3-bitrate=320\n",
            "\u001b[1mImportant: the default model was recently changed to `htdemucs`\u001b[0m the latest Hybrid Transformer Demucs model. In some cases, this model can actually perform worse than previous models. To get back the old default model use `-n mdx_extra_q`.\n",
            "Selected model is a bag of 1 models. You will see that many progress bars per track.\n",
            "Separated tracks will be stored in /content/htdemucs\n",
            "Separating track /content/thunderstruck.mp3\n",
            "100%|██████████████████████████████████████████████| 298.34999999999997/298.34999999999997 [00:12<00:00, 24.27seconds/s]\n",
            "Predicting MIDI for /content/htdemucs/thunderstruck/other.mp3...\n",
            "E--------2-------2-----2-------------2-----2-------2-------2---0-------3---0---3---0-------3---0-----\n",
            "B-0-4--0---0-4-0---0-0---0-4-0-0-4-0---0-0---0-4-0---0-4-0---0---0-0-0---0---0---0---0-0-0---0---0-0-\n",
            "G----------------------------------------------------------------------------------------------------\n",
            "D----------------------------------------------------------------------------------------------------\n",
            "A----------------------------------------------------------------------------------------------------\n",
            "E----------------------------------------------------------------------------------------------------\n"
          ]
        }
      ]
    },
    {
      "cell_type": "code",
      "source": [
        "!rm -r /content/htdemucs/"
      ],
      "metadata": {
        "id": "52Z3LTTgtlYq"
      },
      "execution_count": 66,
      "outputs": []
    },
    {
      "cell_type": "code",
      "source": [
        "!python wav2tab_v1.py --in_path /content/behind_blue_eyes.mp3 --out_path /content/"
      ],
      "metadata": {
        "colab": {
          "base_uri": "https://localhost:8080/"
        },
        "id": "xha0CSxD32UW",
        "outputId": "b87fc21a-7c41-4fb8-c9f0-3e6922953617"
      },
      "execution_count": 67,
      "outputs": [
        {
          "output_type": "stream",
          "name": "stdout",
          "text": [
            "2023-05-10 13:38:45.360737: I tensorflow/core/platform/cpu_feature_guard.cc:193] This TensorFlow binary is optimized with oneAPI Deep Neural Network Library (oneDNN) to use the following CPU instructions in performance-critical operations:  AVX2 FMA\n",
            "To enable them in other operations, rebuild TensorFlow with the appropriate compiler flags.\n",
            "2023-05-10 13:38:46.407865: W tensorflow/compiler/xla/stream_executor/platform/default/dso_loader.cc:64] Could not load dynamic library 'libnvinfer.so.7'; dlerror: libnvinfer.so.7: cannot open shared object file: No such file or directory; LD_LIBRARY_PATH: /usr/lib64-nvidia\n",
            "2023-05-10 13:38:46.407983: W tensorflow/compiler/xla/stream_executor/platform/default/dso_loader.cc:64] Could not load dynamic library 'libnvinfer_plugin.so.7'; dlerror: libnvinfer_plugin.so.7: cannot open shared object file: No such file or directory; LD_LIBRARY_PATH: /usr/lib64-nvidia\n",
            "2023-05-10 13:38:46.408019: W tensorflow/compiler/tf2tensorrt/utils/py_utils.cc:38] TF-TRT Warning: Cannot dlopen some TensorRT libraries. If you would like to use Nvidia GPU with TensorRT, please make sure the missing libraries mentioned above are installed properly.\n",
            "Going to separate file:\n",
            "/content/behind_blue_eyes.mp3\n",
            "With command:  demucs -o /content/ --mp3 --mp3-bitrate=320\n",
            "\u001b[1mImportant: the default model was recently changed to `htdemucs`\u001b[0m the latest Hybrid Transformer Demucs model. In some cases, this model can actually perform worse than previous models. To get back the old default model use `-n mdx_extra_q`.\n",
            "Selected model is a bag of 1 models. You will see that many progress bars per track.\n",
            "Separated tracks will be stored in /content/htdemucs\n",
            "Separating track /content/behind_blue_eyes.mp3\n",
            "100%|██████████████████████████████████████████████| 368.54999999999995/368.54999999999995 [00:15<00:00, 23.88seconds/s]\n",
            "Predicting MIDI for /content/htdemucs/behind_blue_eyes/other.mp3...\n",
            "E--------4---------4-0----3---------------------------0-5-----------5----------------------0---------\n",
            "B----------------0-----0------0---0--------0--------------3----------------------3---3---------------\n",
            "G----------0----------------0-----------------------------------0--------------2-------2-------------\n",
            "D------------2------------------------------------0---------0-0-------0---0--------------------------\n",
            "A----2--------------------------2---2--------2-------------------------------------0-----0-----------\n",
            "E-0----0-------0----------------------3--3------3---3-------------3-----3----------------------------\n"
          ]
        }
      ]
    },
    {
      "cell_type": "code",
      "source": [],
      "metadata": {
        "id": "dNzOIuCD32W0"
      },
      "execution_count": null,
      "outputs": []
    },
    {
      "cell_type": "code",
      "source": [],
      "metadata": {
        "id": "GXpuKftV32ZI"
      },
      "execution_count": null,
      "outputs": []
    },
    {
      "cell_type": "code",
      "source": [],
      "metadata": {
        "id": "DhR3ytvY32bc"
      },
      "execution_count": null,
      "outputs": []
    },
    {
      "cell_type": "code",
      "source": [],
      "metadata": {
        "id": "UTYXUHPG32dz"
      },
      "execution_count": null,
      "outputs": []
    },
    {
      "cell_type": "code",
      "source": [],
      "metadata": {
        "id": "f7X_l1Zx4Ehc"
      },
      "execution_count": null,
      "outputs": []
    },
    {
      "cell_type": "code",
      "source": [],
      "metadata": {
        "id": "8Tod7Gd14EkU"
      },
      "execution_count": null,
      "outputs": []
    },
    {
      "cell_type": "code",
      "source": [
        "%cd /content/\n",
        "!rm -r wav2tab"
      ],
      "metadata": {
        "colab": {
          "base_uri": "https://localhost:8080/"
        },
        "id": "1ZLONylmr94S",
        "outputId": "2aa0e8be-19e5-4395-c332-51f029be4379"
      },
      "execution_count": 59,
      "outputs": [
        {
          "output_type": "stream",
          "name": "stdout",
          "text": [
            "/content\n"
          ]
        }
      ]
    },
    {
      "cell_type": "code",
      "source": [
        "from argparse import ArgumentParser\n",
        "import io\n",
        "from pathlib import Path\n",
        "import select\n",
        "from shutil import rmtree\n",
        "import subprocess as sp\n",
        "import sys\n",
        "from typing import Dict, Tuple, Optional, IO\n",
        "from os.path import dirname, abspath\n",
        "from basic_pitch.inference import predict\n",
        "from basic_pitch import ICASSP_2022_MODEL_PATH\n",
        "import numpy as np\n",
        "import librosa\n",
        "\n",
        "# get root directory\n",
        "#root = abspath(__file__)\n",
        "#while root.split('/')[-1] != 'wav2tab':\n",
        "    #root = dirname(root)\n",
        "\n",
        "# hyps #\n",
        "\n",
        "model = \"htdemucs\"\n",
        "extensions = [\"mp3\", \"wav\", \"ogg\", \"flac\"]  # we will look for all those file types.\n",
        "two_stems = None   # only separate one stems from the rest, for instance\n",
        "# two_stems = \"vocals\"\n",
        "\n",
        "# Options for the output audio.\n",
        "mp3 = True\n",
        "mp3_rate = 320\n",
        "float32 = False  # output as float 32 wavs, unsused if 'mp3' is True.\n",
        "int24 = False    # output as int24 wavs, unused if 'mp3' is True.\n",
        "# You cannot set both `float32 = True` and `int24 = True` !!\n",
        "\n",
        "def find_files(in_path):\n",
        "    out = []\n",
        "    for file in Path(in_path).iterdir():\n",
        "        if file.suffix.lower().lstrip(\".\") in extensions:\n",
        "            out.append(file)\n",
        "    return out\n",
        "\n",
        "\n",
        "def copy_process_streams(process: sp.Popen):\n",
        "    def raw(stream: Optional[IO[bytes]]) -> IO[bytes]:\n",
        "        assert stream is not None\n",
        "        if isinstance(stream, io.BufferedIOBase):\n",
        "            stream = stream.raw\n",
        "        return stream\n",
        "\n",
        "    p_stdout, p_stderr = raw(process.stdout), raw(process.stderr)\n",
        "    stream_by_fd: Dict[int, Tuple[IO[bytes], io.StringIO, IO[str]]] = {\n",
        "        p_stdout.fileno(): (p_stdout, sys.stdout),\n",
        "        p_stderr.fileno(): (p_stderr, sys.stderr),\n",
        "    }\n",
        "    fds = list(stream_by_fd.keys())\n",
        "\n",
        "    while fds:\n",
        "        # `select` syscall will wait until one of the file descriptors has content.\n",
        "        ready, _, _ = select.select(fds, [], [])\n",
        "        for fd in ready:\n",
        "            p_stream, std = stream_by_fd[fd]\n",
        "            raw_buf = p_stream.read(2 ** 16)\n",
        "            if not raw_buf:\n",
        "                fds.remove(fd)\n",
        "                continue\n",
        "            buf = raw_buf.decode()\n",
        "            std.write(buf)\n",
        "            std.flush()\n",
        "\n",
        "# separate all song in directory passed in\n",
        "def separate_dir(inp=None, outp=None):\n",
        "    inp = inp \n",
        "    outp = outp \n",
        "    cmd = [\"python3\", \"-m\", \"demucs.separate\", \"-o\", str(outp), \"-n\", model]\n",
        "    if mp3:\n",
        "        cmd += [\"--mp3\", f\"--mp3-bitrate={mp3_rate}\"]\n",
        "    if float32:\n",
        "        cmd += [\"--float32\"]\n",
        "    if int24:\n",
        "        cmd += [\"--int24\"]\n",
        "    if two_stems is not None:\n",
        "        cmd += [f\"--two-stems={two_stems}\"]\n",
        "    files = [str(f) for f in find_files(inp)]\n",
        "    if not files:\n",
        "        print(f\"No valid audio files in {inp}\")\n",
        "        return\n",
        "    print(\"Going to separate the files:\")\n",
        "    print('\\n'.join(files))\n",
        "    print(\"With command: \", \" \".join(cmd))\n",
        "    p = sp.Popen(cmd + files, stdout=sp.PIPE, stderr=sp.PIPE)\n",
        "    copy_process_streams(p)\n",
        "    p.wait()\n",
        "    if p.returncode != 0:\n",
        "        print(\"Command failed, something went wrong.\")\n",
        "\n",
        "\n",
        "def separate(inp=None, outp=None):\n",
        "    inp = inp \n",
        "    outp = outp \n",
        "    cmd = [\"demucs\", \"-o\", str(outp)]\n",
        "    if mp3:\n",
        "        cmd += [\"--mp3\", f\"--mp3-bitrate={mp3_rate}\"]\n",
        "    if float32:\n",
        "        cmd += [\"--float32\"]\n",
        "    if int24:\n",
        "        cmd += [\"--int24\"]\n",
        "    if two_stems is not None:\n",
        "        cmd += [f\"--two-stems={two_stems}\"]\n",
        "\n",
        "    print(\"Going to separate file:\")\n",
        "    print(inp)\n",
        "    print(\"With command: \", \" \".join(cmd))\n",
        "    p = sp.Popen(cmd + [inp], stdout=sp.PIPE, stderr=sp.PIPE)\n",
        "\n",
        "    copy_process_streams(p)\n",
        "    p.wait()\n",
        "    if p.returncode != 0:\n",
        "        print(\"Command failed, something went wrong.\")\n",
        "\n",
        "\n",
        "def pitch_to_note(note_events):\n",
        "    ret_list = []\n",
        "    for event in note_events:\n",
        "        l = list(event)\n",
        "        note = librosa.midi_to_note(event[2], unicode=False)  # event[2] is pitch\n",
        "        l[2] = note\n",
        "        ret_list.append(l)\n",
        "    return ret_list"
      ],
      "metadata": {
        "id": "ou1Y7r46Ibcr"
      },
      "execution_count": null,
      "outputs": []
    },
    {
      "cell_type": "code",
      "source": [
        "# song input -> mp3 file (for now)\n",
        "# make sure file has no space in name (for now)\n",
        "in_path = '/content/behind_blue_eyes.mp3'\n",
        "out_path = '/content/'\n",
        "# stems output\n",
        "# separate into stems -> other.mp3 has guitar for now\n",
        "separate(in_path, out_path)\n",
        "\n",
        "# midi : pretty_midi.PrettyMIDI object\n",
        "# note_events: A list of note event tuples (start_time_s, end_time_s, pitch_midi, amplitude, bends)\n",
        "outfile_path = out_path + 'htdemucs/' + in_path.split('/')[-1].split('.mp3')[0] + '/other.mp3'\n",
        "\n",
        "model_output, midi_data, note_events = predict(outfile_path)\n",
        "\n",
        "# sort note events according to start time \n",
        "sorted_events = sorted(note_events, key=lambda x: x[0])  # x[0] is start time\n",
        "\n",
        "# midi pitch to note\n",
        "# each event is now a list [start_time_s, end_time_s, pitch_midi, amplitude, bends]\n",
        "note_events = pitch_to_note(sorted_events)\n",
        "\n",
        "#print(note_events[0])"
      ],
      "metadata": {
        "colab": {
          "base_uri": "https://localhost:8080/"
        },
        "id": "XsWrcM1yInfy",
        "outputId": "85a13c3d-033e-4844-cd23-e870b15e6b1e"
      },
      "execution_count": null,
      "outputs": [
        {
          "output_type": "stream",
          "name": "stdout",
          "text": [
            "Going to separate file:\n",
            "/content/behind_blue_eyes.mp3\n",
            "With command:  demucs -o /content/ --mp3 --mp3-bitrate=320\n"
          ]
        },
        {
          "output_type": "stream",
          "name": "stderr",
          "text": [
            "Downloading: \"https://dl.fbaipublicfiles.com/demucs/hybrid_transformer/955717e8-8726e21a.th\" to /root/.cache/torch/hub/checkpoints/955717e8-8726e21a.th\n"
          ]
        },
        {
          "output_type": "stream",
          "name": "stdout",
          "text": [
            "\u001b[1mImportant: the default model was recently changed to `htdemucs`\u001b[0m the latest Hybrid Transformer Demucs model. In some cases, this model can actually perform worse than previous models. To get back the old default model use `-n mdx_extra_q`.\n"
          ]
        },
        {
          "output_type": "stream",
          "name": "stderr",
          "text": [
            "100%|██████████| 80.2M/80.2M [00:00<00:00, 143MB/s]\n"
          ]
        },
        {
          "output_type": "stream",
          "name": "stdout",
          "text": [
            "Selected model is a bag of 1 models. You will see that many progress bars per track.\n",
            "Separated tracks will be stored in /content/htdemucs\n",
            "Separating track /content/behind_blue_eyes.mp3\n"
          ]
        },
        {
          "output_type": "stream",
          "name": "stderr",
          "text": [
            "100%|██████████████████████████████████████████████| 368.54999999999995/368.54999999999995 [00:20<00:00, 18.16seconds/s]\n"
          ]
        },
        {
          "output_type": "stream",
          "name": "stdout",
          "text": [
            "Predicting MIDI for /content/htdemucs/behind_blue_eyes/other.mp3...\n"
          ]
        }
      ]
    },
    {
      "cell_type": "code",
      "source": [
        "print(len(note_events))\n",
        "print(note_events[0])"
      ],
      "metadata": {
        "colab": {
          "base_uri": "https://localhost:8080/"
        },
        "id": "_oXPwMVYJfwJ",
        "outputId": "12a2ae92-d1d6-47ff-b4b8-e0a8f9b1e5cd"
      },
      "execution_count": null,
      "outputs": [
        {
          "output_type": "execute_result",
          "data": {
            "text/plain": [
              "3721"
            ]
          },
          "metadata": {},
          "execution_count": 8
        }
      ]
    },
    {
      "cell_type": "code",
      "source": [
        "import pickle\n",
        "with open(\"/content/note_events\", \"wb\") as fp:\n",
        "    pickle.dump(note_events, fp)"
      ],
      "metadata": {
        "id": "p3W6f1CfLl7x",
        "colab": {
          "base_uri": "https://localhost:8080/",
          "height": 204
        },
        "outputId": "d9404b3d-8734-4e5a-81f8-fed276ba7667"
      },
      "execution_count": null,
      "outputs": [
        {
          "output_type": "error",
          "ename": "NameError",
          "evalue": "ignored",
          "traceback": [
            "\u001b[0;31m---------------------------------------------------------------------------\u001b[0m",
            "\u001b[0;31mNameError\u001b[0m                                 Traceback (most recent call last)",
            "\u001b[0;32m<ipython-input-5-85756f8650a0>\u001b[0m in \u001b[0;36m<cell line: 2>\u001b[0;34m()\u001b[0m\n\u001b[1;32m      1\u001b[0m \u001b[0;32mimport\u001b[0m \u001b[0mpickle\u001b[0m\u001b[0;34m\u001b[0m\u001b[0;34m\u001b[0m\u001b[0m\n\u001b[1;32m      2\u001b[0m \u001b[0;32mwith\u001b[0m \u001b[0mopen\u001b[0m\u001b[0;34m(\u001b[0m\u001b[0;34m\"/content/note_events\"\u001b[0m\u001b[0;34m,\u001b[0m \u001b[0;34m\"wb\"\u001b[0m\u001b[0;34m)\u001b[0m \u001b[0;32mas\u001b[0m \u001b[0mfp\u001b[0m\u001b[0;34m:\u001b[0m\u001b[0;34m\u001b[0m\u001b[0;34m\u001b[0m\u001b[0m\n\u001b[0;32m----> 3\u001b[0;31m     \u001b[0mpickle\u001b[0m\u001b[0;34m.\u001b[0m\u001b[0mdump\u001b[0m\u001b[0;34m(\u001b[0m\u001b[0mnote_events\u001b[0m\u001b[0;34m,\u001b[0m \u001b[0mfp\u001b[0m\u001b[0;34m)\u001b[0m\u001b[0;34m\u001b[0m\u001b[0;34m\u001b[0m\u001b[0m\n\u001b[0m",
            "\u001b[0;31mNameError\u001b[0m: name 'note_events' is not defined"
          ]
        }
      ]
    },
    {
      "cell_type": "code",
      "source": [
        "fretboard ={\n",
        "    'E4': {1: 0, 2: 5, 3: 9, 4: -1, 5: -1, 6: -1},\n",
        "    'F4': {1: 1, 2: 6, 3: 10, 4: -1, 5: -1, 6: -1},\n",
        "    'F#4': {1: 2, 2: 7, 3: 11, 4: -1, 5: -1, 6: -1},\n",
        "    'G4': {1: 3, 2: 8, 3: 12, 4: -1, 5: -1, 6: -1},\n",
        "    'G#4': {1: 4, 2: 9, 3: -1, 4: -1, 5: -1, 6: -1},\n",
        "    'A4': {1: 5, 2: 10, 3: -1, 4: -1, 5: -1, 6: -1},\n",
        "    'A#4': {1: 6, 2: 11, 3: -1, 4: -1, 5: -1, 6: -1},\n",
        "    'B4': {1: 7, 2: 12, 3: -1, 4: -1, 5: -1, 6: -1},\n",
        "    'C5': {1: 8, 2: -1, 3: -1, 4: -1, 5: -1, 6: -1},\n",
        "    'C#5': {1: 9, 2: -1, 3: -1, 4: -1, 5: -1, 6: -1},\n",
        "    'D5': {1: 10, 2: -1, 3: -1, 4: -1, 5: -1, 6: -1},\n",
        "    'D#5': {1: 11, 2: -1, 3: -1, 4: -1, 5: -1, 6: -1},\n",
        "    'E5': {1: 12, 2: -1, 3: -1, 4: -1, 5: -1, 6: -1},\n",
        "    'B3': {1: -1, 2: 0, 3: 4, 4: 9, 5: -1, 6: -1},\n",
        "    'C4': {1: -1, 2: 1, 3: 5, 4: 10, 5: -1, 6: -1},\n",
        "    'C#4': {1: -1, 2: 2, 3: 6, 4: 11, 5: -1, 6: -1},\n",
        "    'D4': {1: -1, 2: 3, 3: 7, 4: 12, 5: -1, 6: -1},\n",
        "    'D#4': {1: -1, 2: 4, 3: 8, 4: -1, 5: -1, 6: -1},\n",
        "    'G3': {1: -1, 2: -1, 3: 0, 4: 5, 5: 10, 6: -1},\n",
        "    'G#3': {1: -1, 2: -1, 3: 1, 4: 6, 5: 11, 6: -1},\n",
        "    'A3': {1: -1, 2: -1, 3: 2, 4: 7, 5: 12, 6: -1},\n",
        "    'A#3': {1: -1, 2: -1, 3: 3, 4: 8, 5: -1, 6: -1},\n",
        "    'D3': {1: -1, 2: -1, 3: -1, 4: 0, 5: 5, 6: 10},\n",
        "    'D#3': {1: -1, 2: -1, 3: -1, 4: 1, 5: 6, 6: 11},\n",
        "    'E3': {1: -1, 2: -1, 3: -1, 4: 2, 5: 7, 6: 12},\n",
        "    'F3': {1: -1, 2: -1, 3: -1, 4: 3, 5: 8, 6: -1},\n",
        "    'F#3': {1: -1, 2: -1, 3: -1, 4: 4, 5: 9, 6: -1},\n",
        "    'A2': {1: -1, 2: -1, 3: -1, 4: -1, 5: 0, 6: 5},\n",
        "    'A#2': {1: -1, 2: -1, 3: -1, 4: -1, 5: 1, 6: 6},\n",
        "    'B2': {1: -1, 2: -1, 3: -1, 4: -1, 5: 2, 6: 7},\n",
        "    'C3': {1: -1, 2: -1, 3: -1, 4: -1, 5: 3, 6: 8},\n",
        "    'C#3': {1: -1, 2: -1, 3: -1, 4: -1, 5: 4, 6: 9},\n",
        "    'E2': {1: -1, 2: -1, 3: -1, 4: -1, 5: -1, 6: 0},\n",
        "    'F2': {1: -1, 2: -1, 3: -1, 4: -1, 5: -1, 6: 1},\n",
        "    'F#2': {1: -1, 2: -1, 3: -1, 4: -1, 5: -1, 6: 2},\n",
        "    'G2': {1: -1, 2: -1, 3: -1, 4: -1, 5: -1, 6: 3},\n",
        "    'G#2': {1: -1, 2: -1, 3: -1, 4: -1, 5: -1, 6: 4},\n",
        "}"
      ],
      "metadata": {
        "id": "CEN6dZ40MPER"
      },
      "execution_count": 20,
      "outputs": []
    },
    {
      "cell_type": "code",
      "source": [
        "import pickle\n",
        "%cd /content/\n",
        "with open(\"note_events\", \"rb\") as fp:\n",
        "    note_events = pickle.load(fp)\n",
        "\n",
        "print(len(note_events))"
      ],
      "metadata": {
        "id": "uDYGkxT-MQKv",
        "colab": {
          "base_uri": "https://localhost:8080/"
        },
        "outputId": "8d2418e7-6d7b-4a37-83e5-e923ff4d3459"
      },
      "execution_count": 21,
      "outputs": [
        {
          "output_type": "stream",
          "name": "stdout",
          "text": [
            "/content\n",
            "3721\n"
          ]
        }
      ]
    },
    {
      "cell_type": "code",
      "source": [
        "#diffs = []\n",
        "#for i in range(len(note_events) - 1):\n",
        "    #diffs.append(note_events[i+1][0] - note_events[i][0])\n",
        "\n",
        "#len([x for x in diffs if x < 3])"
      ],
      "metadata": {
        "id": "kTENNLKmwS_k"
      },
      "execution_count": null,
      "outputs": []
    },
    {
      "cell_type": "code",
      "source": [
        "for i in range(10):\n",
        "    print(note_events[i])"
      ],
      "metadata": {
        "colab": {
          "base_uri": "https://localhost:8080/"
        },
        "id": "tkcOG_CNC0VG",
        "outputId": "40aa1b72-fa8a-4dbb-e349-39fe30c4dede"
      },
      "execution_count": null,
      "outputs": [
        {
          "output_type": "stream",
          "name": "stdout",
          "text": [
            "[0.5108390022675737, 0.7894784580498866, 'E2', 0.6735251, [1, 2, 2, 2, 1, 1, 1, 1, 1, 1, 1, 1, 1, 1, 1, 1, 1, 1, 1, 1, 1, 1, 1, 1]]\n",
            "[0.5224489795918368, 2.4161591836734693, 'E1', 0.43101585, [0, 0, 1, 1, 1, 1, 1, 1, 1, 1, 1, 1, 1, 1, 1, 1, 1, 1, 1, 1, 1, 1, 1, 1, 1, 1, 1, 1, 1, 1, 1, 1, 1, 1, 1, 1, 1, 1, 1, 1, 1, 1, 1, 1, 1, 1, 1, 1, 1, 1, 1, 1, 1, 1, 1, 1, 1, 1, 1, 1, 1, 1, 1, 1, 1, 1, 1, 1, 1, 1, 1, 1, 1, 1, 1, 1, 1, 1, 1, 1, 1, 1, 1, 1, 1, 1, 1, 1, 1, 1, 1, 1, 1, 1, 1, 1, 1, 1, 1, 1, 1, 1, 1, 1, 1, 1, 1, 1, 1, 1, 1, 1, 1, 1, 1, 1, 1, 1, 1, 1, 1, 1, 1, 1, 1, 1, 1, 1, 1, 1, 1, 1, 1, 1, 1, 1, 1, 1, 1, 1, 1, 1, 1, 1, 1, 1, 1, 1, 1, 1, 1, 1, 1, 1, 1, 1, 1, 1, 1, 1, 1, 1, 1, 1]]\n",
            "[0.7894784580498866, 1.2887074829931973, 'E2', 0.6283504, [1, 1, 1, 1, 1, 1, 1, 1, 1, 1, 1, 1, 1, 1, 1, 1, 1, 1, 1, 1, 1, 1, 1, 1, 1, 1, 1, 1, 1, 1, 1, 1, 1, 1, 1, 1, 1, 1, 1, 1, 1, 1, 1]]\n",
            "[0.8010884353741496, 2.2420095238095237, 'B2', 0.46589294, [1, 1, 1, 1, 1, 1, 1, 1, 1, 1, 1, 1, 1, 1, 1, 1, 1, 1, 1, 1, 1, 1, 1, 1, 1, 1, 1, 1, 1, 1, 1, 1, 1, 1, 1, 1, 1, 1, 1, 1, 1, 1, 1, 1, 1, 1, 1, 1, 1, 1, 1, 1, 1, 1, 1, 1, 1, 1, 1, 1, 1, 1, 1, 1, 1, 1, 1, 1, 1, 1, 1, 1, 1, 1, 1, 1, 1, 1, 1, 1, 1, 1, 1, 1, 1, 1, 1, 1, 1, 1, 1, 1, 1, 1, 1, 1, 1, 1, 1, 1, 1, 1, 1, 1, 1, 1, 1, 1, 1, 1, 1, 1, 1, 1, 1, 1, 1, 1, 1, 1, 1, 1, 1, 1, 1]]\n",
            "[1.0100680272108844, 1.2190476190476192, 'G#4', 0.40485683, [1, 1, 1, 1, 1, 1, 1, 1, 1, 1, 1, 1, 1, 1, 1, 1, 1, 1]]\n",
            "[1.242267573696145, 1.4396371882086167, 'B3', 0.366845, [1, 1, 1, 1, 1, 1, 1, 1, 1, 1, 1, 1, 1, 1, 1, 1, 1]]\n",
            "[1.2887074829931973, 1.6253968253968254, 'G3', 0.5272002, [1, 1, 1, 1, 1, 1, 1, 1, 1, 1, 1, 1, 1, 1, 1, 1, 1, 1, 1, 1, 1, 1, 1, 1, 1, 1, 1, 1, 1]]\n",
            "[1.2887074829931973, 1.474467120181406, 'E3', 0.34841016, [1, 1, 1, 1, 1, 1, 1, 1, 1, 1, 1, 1, 1, 1, 1, 1]]\n",
            "[1.2887074829931973, 2.4393791383219954, 'E2', 0.58272344, [1, 1, 1, 1, 1, 1, 1, 1, 1, 1, 1, 1, 1, 1, 1, 1, 1, 1, 1, 1, 1, 1, 1, 1, 1, 1, 1, 1, 1, 1, 1, 1, 1, 1, 1, 1, 1, 1, 1, 1, 1, 1, 1, 1, 1, 1, 1, 1, 1, 1, 1, 1, 1, 1, 1, 1, 1, 1, 1, 1, 1, 1, 1, 1, 1, 1, 1, 1, 1, 1, 1, 1, 1, 1, 1, 1, 1, 1, 1, 1, 1, 1, 1, 1, 1, 1, 1, 1, 1, 1, 1, 1, 1, 1, 1, 1, 1, 1, 1, 1]]\n",
            "[1.4396371882086167, 1.6021768707482993, 'G#4', 0.3203769, [1, 1, 1, 1, 1, 1, 1, 1, 1, 1, 1, 1, 1, 1]]\n"
          ]
        }
      ]
    },
    {
      "cell_type": "code",
      "source": [
        "# take first choice #\n",
        "\n",
        "tab = []\n",
        "\n",
        "E1 = 'E'+'-'*50\n",
        "B = 'B'+'-'*50\n",
        "G = 'G'+'-'*50\n",
        "D = 'D'+'-'*50\n",
        "A = 'A'+'-'*50\n",
        "E2 = 'E'+'-'*50\n",
        "\n",
        "tab.append(E1)\n",
        "tab.append(B)\n",
        "tab.append(G)\n",
        "tab.append(D)\n",
        "tab.append(A)\n",
        "tab.append(E2)\n",
        "\n",
        "for i in range(40):\n",
        "    note = note_events[i][2]\n",
        "    if note not in fretboard: continue\n",
        "    for string, fret in fretboard[note].items():\n",
        "        if fret != -1:\n",
        "            new_string = list(tab[string-1])\n",
        "            new_string[i+2] = str(fret)\n",
        "            tab[string-1] = ''.join(new_string)\n",
        "            break\n",
        "\n",
        "            \n",
        "\n",
        "\n",
        "\n",
        "\n",
        "\n",
        "\n",
        "# final print\n",
        "for string in tab:\n",
        "    print(string)"
      ],
      "metadata": {
        "colab": {
          "base_uri": "https://localhost:8080/"
        },
        "id": "8huTcsjtSLbe",
        "outputId": "b34aa55f-0559-4301-a991-f29b9c4c53a3"
      },
      "execution_count": null,
      "outputs": [
        {
          "output_type": "stream",
          "name": "stdout",
          "text": [
            "E-----4----40--3---------------0------5------------\n",
            "B------0------0--0-0----0-------3------------------\n",
            "G-------0-------0-------------------0--------------\n",
            "D--------2---2--------------0----0-0---0-0---------\n",
            "A----2------------2-2----2-------------------------\n",
            "E-0-0-----0----------3-3---3-33---3--3--3----------\n"
          ]
        }
      ]
    },
    {
      "cell_type": "code",
      "source": [
        "note_events[1]"
      ],
      "metadata": {
        "colab": {
          "base_uri": "https://localhost:8080/"
        },
        "id": "iyqx8q8ZsyhZ",
        "outputId": "df38c167-8e59-46f6-e590-8afab2675f63"
      },
      "execution_count": null,
      "outputs": [
        {
          "output_type": "execute_result",
          "data": {
            "text/plain": [
              "[0.626938775510204,\n",
              " 0.7662585034013606,\n",
              " 'D#4',\n",
              " 0.65871483,\n",
              " [1, 1, 1, 1, 1, 1, 1, 1, 1, 1, 1, 1]]"
            ]
          },
          "metadata": {},
          "execution_count": 5
        }
      ]
    },
    {
      "cell_type": "code",
      "source": [
        "new_string = list(tab[0])\n",
        "new_string[2] = '2'\n",
        "tab[0] = ''.join(new_string)\n",
        "\n",
        "for string in tab:\n",
        "    print(string)"
      ],
      "metadata": {
        "colab": {
          "base_uri": "https://localhost:8080/"
        },
        "id": "PlJkBKOKSqqh",
        "outputId": "659af58b-ffdc-45fe-c161-e117a272da6b"
      },
      "execution_count": null,
      "outputs": [
        {
          "output_type": "stream",
          "name": "stdout",
          "text": [
            "E-2------------------------------------------------\n",
            "B--------------------------------------------------\n",
            "G--------------------------------------------------\n",
            "D--------------------------------------------------\n",
            "A--------------------------------------------------\n",
            "E--------------------------------------------------\n"
          ]
        }
      ]
    },
    {
      "cell_type": "code",
      "source": [
        "class GuitarCMD:\n",
        "\n",
        "    def __init__(self) -> None:\n",
        "\n",
        "        self.strings = []\n",
        "        self.tab_length = 100\n",
        "        self.make_strings()\n",
        "\n",
        "\n",
        "    def make_strings(self):\n",
        "\n",
        "        E1 = 'E'+'-'*self.tab_length\n",
        "        B = 'B'+'-'*self.tab_length\n",
        "        G = 'G'+'-'*self.tab_length\n",
        "        D = 'D'+'-'*self.tab_length\n",
        "        A = 'A'+'-'*self.tab_length\n",
        "        E2 = 'E'+'-'*self.tab_length\n",
        "\n",
        "        self.strings.append(E1)\n",
        "        self.strings.append(B)\n",
        "        self.strings.append(G)\n",
        "        self.strings.append(D)\n",
        "        self.strings.append(A)\n",
        "        self.strings.append(E2)\n",
        "\n",
        "\n",
        "    def generate(self, note_events):\n",
        "        end_space = 5\n",
        "        gap = 0\n",
        "        #for i in range(self.tab_length - end_space):\n",
        "        for i in range(50):\n",
        "            note = note_events[i][2]  # (start_time_s, end_time_s, pitch_midi, amplitude, bends)\n",
        "            if note not in fretboard: continue\n",
        "            for string, fret in fretboard[note].items():\n",
        "                if fret != -1:\n",
        "                    new_string = list(self.strings[string-1])\n",
        "                    new_string[i+2+gap] = str(fret)\n",
        "                    self.strings[string-1] = ''.join(new_string) \n",
        "                    break\n",
        "            gap += 1\n",
        "\n",
        "        # print tab to cmd\n",
        "        for string in self.strings:\n",
        "            print(string)"
      ],
      "metadata": {
        "id": "K_a4daUoj-Mw"
      },
      "execution_count": 57,
      "outputs": []
    },
    {
      "cell_type": "code",
      "source": [
        "tab_generator = GuitarCMD()\n",
        "tab_generator.generate(note_events)"
      ],
      "metadata": {
        "colab": {
          "base_uri": "https://localhost:8080/"
        },
        "id": "Aj-8IwyEumtX",
        "outputId": "6cd63e43-a1e1-4137-c91b-2cd8eb76d364"
      },
      "execution_count": 58,
      "outputs": [
        {
          "output_type": "stream",
          "name": "stdout",
          "text": [
            "E--------4---------4-0-----3-----------------------------0-------------5----------------------0------\n",
            "B----------0-------------0-----0---0--------0--------------3------------------------3---3------------\n",
            "G------------0---------------0-------------------------------------0--------------2-------2----------\n",
            "D--------------2-------2---------------------------0---------0---0-------0---0-----------------------\n",
            "A------2-------------------------2---2--------2---------------------------------------0-----0--------\n",
            "E-0--0-----------0---------------------3--3------3---3-3-------3-----3-----3-------------------------\n"
          ]
        }
      ]
    },
    {
      "cell_type": "code",
      "source": [],
      "metadata": {
        "id": "65UADWoTuukC"
      },
      "execution_count": null,
      "outputs": []
    }
  ],
  "metadata": {
    "colab": {
      "provenance": [],
      "gpuType": "T4"
    },
    "gpuClass": "standard",
    "kernelspec": {
      "display_name": "Python 3",
      "name": "python3"
    },
    "language_info": {
      "name": "python"
    },
    "accelerator": "GPU"
  },
  "nbformat": 4,
  "nbformat_minor": 0
}